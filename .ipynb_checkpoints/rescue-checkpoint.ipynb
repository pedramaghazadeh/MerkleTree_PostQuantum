{
 "cells": [
  {
   "cell_type": "code",
   "execution_count": 1,
   "id": "00b32ec1-83fc-4e88-9a82-2baa8ba505ae",
   "metadata": {},
   "outputs": [
    {
     "name": "stdout",
     "output_type": "stream",
     "text": [
      "13.4.1\n"
     ]
    }
   ],
   "source": [
    "# Imports\n",
    "#%pip install cupy-cuda11x\n",
    "import cupy as cp\n",
    "print(cp.__version__)"
   ]
  },
  {
   "cell_type": "code",
   "execution_count": null,
   "id": "23082ab5-908c-4134-b848-ca3daf1343ff",
   "metadata": {},
   "outputs": [],
   "source": []
  }
 ],
 "metadata": {
  "kernelspec": {
   "display_name": "Python 3 (ipykernel)",
   "language": "python",
   "name": "python3"
  },
  "language_info": {
   "codemirror_mode": {
    "name": "ipython",
    "version": 3
   },
   "file_extension": ".py",
   "mimetype": "text/x-python",
   "name": "python",
   "nbconvert_exporter": "python",
   "pygments_lexer": "ipython3",
   "version": "3.11.9"
  }
 },
 "nbformat": 4,
 "nbformat_minor": 5
}
